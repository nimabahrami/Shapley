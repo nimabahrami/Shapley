{
  "nbformat": 4,
  "nbformat_minor": 0,
  "metadata": {
    "colab": {
      "provenance": [],
      "authorship_tag": "ABX9TyPvmd6zNkMyHH2fACUU4siz",
      "include_colab_link": true
    },
    "kernelspec": {
      "name": "python3",
      "display_name": "Python 3"
    },
    "language_info": {
      "name": "python"
    }
  },
  "cells": [
    {
      "cell_type": "markdown",
      "metadata": {
        "id": "view-in-github",
        "colab_type": "text"
      },
      "source": [
        "<a href=\"https://colab.research.google.com/github/nimabahrami/Shapley/blob/main/shapley_value.ipynb\" target=\"_parent\"><img src=\"https://colab.research.google.com/assets/colab-badge.svg\" alt=\"Open In Colab\"/></a>"
      ]
    },
    {
      "cell_type": "markdown",
      "source": [
        "the following code is for one of my papers that i wrote in 2022. this could be useful if sb is dealing with group creation for fair allocation of benefits aka **Shapley Value**.\n",
        "\n",
        "First you need to import the necessary modules."
      ],
      "metadata": {
        "id": "XL3GVe4BZ6jG"
      }
    },
    {
      "cell_type": "code",
      "execution_count": 1,
      "metadata": {
        "id": "-IilsdFc5gGE"
      },
      "outputs": [],
      "source": [
        "\n",
        "from itertools import chain, combinations\n",
        "import math\n"
      ]
    },
    {
      "cell_type": "markdown",
      "source": [
        "after importing, the following function creates a list of all possible combinations of the individuals"
      ],
      "metadata": {
        "id": "yCvN5O00aEbY"
      }
    },
    {
      "cell_type": "code",
      "source": [
        "def get_all_subsets(input_list):\n",
        "    all_subsets = list(chain.from_iterable(combinations(input_list, r) for r in range(len(input_list)+1)))\n",
        "    list_of_lists = [set(t) for t in all_subsets]\n",
        "    return list_of_lists[1::]"
      ],
      "metadata": {
        "id": "FPVHVc-P6_JJ"
      },
      "execution_count": 2,
      "outputs": []
    },
    {
      "cell_type": "code",
      "source": [
        "print(get_all_subsets(['a','b','c','d']))"
      ],
      "metadata": {
        "colab": {
          "base_uri": "https://localhost:8080/"
        },
        "id": "jSbAAfNJMwa4",
        "outputId": "9b41bfa1-4436-4d1d-d8ae-e5bd1e172fe6"
      },
      "execution_count": 3,
      "outputs": [
        {
          "output_type": "stream",
          "name": "stdout",
          "text": [
            "[{'a'}, {'b'}, {'c'}, {'d'}, {'a', 'b'}, {'a', 'c'}, {'a', 'd'}, {'b', 'c'}, {'b', 'd'}, {'c', 'd'}, {'a', 'c', 'b'}, {'a', 'b', 'd'}, {'a', 'c', 'd'}, {'b', 'c', 'd'}, {'a', 'c', 'b', 'd'}]\n"
          ]
        }
      ]
    },
    {
      "cell_type": "markdown",
      "source": [
        "Based on your desired payoff function the payoff dictionary should be created for each subet. for example you have a solar plant e.g. *S*,  and the payoff function shows that if this plant works alone *X* amount will be the payoff *{S}*: *X* . if a wind plant and solar plant mix toghether and generate electricity e.g. S and W, the Y amount will be the payoff *{S,W}*: *Y*\n",
        "\n",
        "so the following payoff dictionary is just for demonstration."
      ],
      "metadata": {
        "id": "B944zOHPd7Wt"
      }
    },
    {
      "cell_type": "code",
      "source": [
        "payoffs = {frozenset({'a'}):0, frozenset({'b'}): 0, frozenset({'c'}): 0, frozenset({'a','c'}):750, frozenset({'a','b'}):750, frozenset({'a','b','c'}):1000, frozenset({'b','c'}):500,}"
      ],
      "metadata": {
        "id": "Bi4qrlgn_8IC"
      },
      "execution_count": 4,
      "outputs": []
    },
    {
      "cell_type": "markdown",
      "source": [
        "Next, we have \"shapley_value()\"\n",
        "\n",
        "something that is very important is to understand that group creation can happen in multi ways. for example you could have 2 groups of *{S} {W, Es}* but also *{Es, S} {W}* or for more players you could have *{S, W} {Es, Hydro}*  or *{W, Es} {Hydro, S}*\n",
        "\n",
        "the rest is just mathematical function of shapley"
      ],
      "metadata": {
        "id": "llZv5uIkffTO"
      }
    },
    {
      "cell_type": "code",
      "source": [
        "def shapley_value(payoff_mat, input_list):\n",
        "  subsets = get_all_subsets(input_list)[1::]\n",
        "  number_of_players = len(input_list)\n",
        "  marginal_contribution_list = []\n",
        "  exclusion = []\n",
        "  result = []\n",
        "  for i in input_list:\n",
        "    for j in subsets:\n",
        "      if not set(i).issubset(j):\n",
        "        exclusion.append(j)\n",
        "\n",
        "    for items in exclusion:\n",
        "      copy_of_items = items.copy()\n",
        "      copy_of_items.add(i)\n",
        "      marginal_contribution_val = math.factorial(len(items))*(math.factorial(number_of_players-1-len(items)))*((payoff_mat[frozenset(copy_of_items)])-payoff_mat[frozenset(items)])\n",
        "      marginal_contribution_list.append(marginal_contribution_val)\n",
        "\n",
        "    val = (1/math.factorial(number_of_players))*sum(marginal_contribution_list)\n",
        "    result.append(val)\n",
        "    exclusion = []\n",
        "    marginal_contribution_list = []\n",
        "  return result"
      ],
      "metadata": {
        "id": "Bju6AKy07MUB"
      },
      "execution_count": 5,
      "outputs": []
    },
    {
      "cell_type": "code",
      "source": [
        "print(shapley_value(payoffs,['a','b','c']))"
      ],
      "metadata": {
        "id": "-WV4_j-CRu3i",
        "colab": {
          "base_uri": "https://localhost:8080/"
        },
        "outputId": "a8ed2dc5-ca5e-4f47-f84c-b2ac955285b7"
      },
      "execution_count": 6,
      "outputs": [
        {
          "output_type": "stream",
          "name": "stdout",
          "text": [
            "[416.66666666666663, 166.66666666666666, 166.66666666666666]\n"
          ]
        }
      ]
    },
    {
      "cell_type": "code",
      "source": [],
      "metadata": {
        "id": "HtjsgSoWdSsf"
      },
      "execution_count": null,
      "outputs": []
    }
  ]
}